{
  "nbformat": 4,
  "nbformat_minor": 0,
  "metadata": {
    "colab": {
      "private_outputs": true,
      "provenance": [],
      "gpuType": "V100",
      "mount_file_id": "1Ghne3GkUXbKol3wf5DMWOtEsR6TaZrf3",
      "authorship_tag": "ABX9TyOCeywSFzSS8RBlcdWpxi3B",
      "include_colab_link": true
    },
    "kernelspec": {
      "name": "python3",
      "display_name": "Python 3"
    },
    "language_info": {
      "name": "python"
    },
    "accelerator": "GPU"
  },
  "cells": [
    {
      "cell_type": "markdown",
      "metadata": {
        "id": "view-in-github",
        "colab_type": "text"
      },
      "source": [
        "<a href=\"https://colab.research.google.com/github/erika-n/FractalMusicBox/blob/master/soundgen.ipynb\" target=\"_parent\"><img src=\"https://colab.research.google.com/assets/colab-badge.svg\" alt=\"Open In Colab\"/></a>"
      ]
    },
    {
      "cell_type": "code",
      "execution_count": null,
      "metadata": {
        "id": "uTPlXDZ4pIK9"
      },
      "outputs": [],
      "source": [
        "import torch\n",
        "import torchaudio\n",
        "import IPython\n",
        "from matplotlib import pyplot as plt\n",
        "from os import listdir\n",
        "from os.path import isfile, join\n",
        "import random\n",
        "from torch import nn\n",
        "import torch.nn.functional as F"
      ]
    },
    {
      "cell_type": "code",
      "source": [
        "data, rate = torchaudio.load('/content/drive/MyDrive/music/songsinmyhead/songsinmyhead_2016/01blame.wav')\n",
        "rate"
      ],
      "metadata": {
        "id": "lH9QTJGs2f-I"
      },
      "execution_count": null,
      "outputs": []
    },
    {
      "cell_type": "code",
      "source": [
        "data.shape"
      ],
      "metadata": {
        "id": "O4IMtuwYIs98"
      },
      "execution_count": null,
      "outputs": []
    },
    {
      "cell_type": "code",
      "source": [
        "data = data.sum(0)"
      ],
      "metadata": {
        "id": "bkN42-YD44hv"
      },
      "execution_count": null,
      "outputs": []
    },
    {
      "cell_type": "code",
      "source": [
        "data.shape"
      ],
      "metadata": {
        "id": "Ge8r84OcAQVg"
      },
      "execution_count": null,
      "outputs": []
    },
    {
      "cell_type": "code",
      "source": [
        "data.min()"
      ],
      "metadata": {
        "id": "I9vdrMehJr7U"
      },
      "execution_count": null,
      "outputs": []
    },
    {
      "cell_type": "code",
      "source": [
        "IPython.display.Audio(data[:5*rate],rate=rate)"
      ],
      "metadata": {
        "id": "d8-ECXbQ2mtu"
      },
      "execution_count": null,
      "outputs": []
    },
    {
      "cell_type": "code",
      "source": [
        "spect = torch.stft(data, 2000, return_complex=True)\n"
      ],
      "metadata": {
        "id": "3TvjzPCj5-zn"
      },
      "execution_count": null,
      "outputs": []
    },
    {
      "cell_type": "code",
      "source": [
        "spect.shape"
      ],
      "metadata": {
        "id": "rcHtiPP_6pjn"
      },
      "execution_count": null,
      "outputs": []
    },
    {
      "cell_type": "code",
      "source": [
        "mag = torch.absolute(spect)"
      ],
      "metadata": {
        "id": "ppjCE52f6MJf"
      },
      "execution_count": null,
      "outputs": []
    },
    {
      "cell_type": "code",
      "source": [
        "mag.shape"
      ],
      "metadata": {
        "id": "5Sn_fan46SuX"
      },
      "execution_count": null,
      "outputs": []
    },
    {
      "cell_type": "code",
      "source": [
        "plt.imshow(mag[:, :2000], origin='lower')"
      ],
      "metadata": {
        "id": "RTkYH8K96ubP"
      },
      "execution_count": null,
      "outputs": []
    },
    {
      "cell_type": "code",
      "source": [
        "phase = torch.angle(spect)"
      ],
      "metadata": {
        "id": "oQKFd06K733w"
      },
      "execution_count": null,
      "outputs": []
    },
    {
      "cell_type": "code",
      "source": [
        "phase.shape"
      ],
      "metadata": {
        "id": "gxi65SFx775H"
      },
      "execution_count": null,
      "outputs": []
    },
    {
      "cell_type": "code",
      "source": [
        "plt.imshow(phase[:, :2000], origin='lower')"
      ],
      "metadata": {
        "id": "MRjlZGsl7-2H"
      },
      "execution_count": null,
      "outputs": []
    },
    {
      "cell_type": "code",
      "source": [
        "def mag_phase_to_complex(mag, phase):\n",
        "    return mag*torch.exp(1.j*phase)"
      ],
      "metadata": {
        "id": "7If0KXJU-0uw"
      },
      "execution_count": null,
      "outputs": []
    },
    {
      "cell_type": "code",
      "source": [
        "new_data = mag_phase_to_complex(mag, phase)"
      ],
      "metadata": {
        "id": "MyI1qRzS-8lv"
      },
      "execution_count": null,
      "outputs": []
    },
    {
      "cell_type": "code",
      "source": [
        "new_data.shape"
      ],
      "metadata": {
        "id": "xqOVYkWd_C4n"
      },
      "execution_count": null,
      "outputs": []
    },
    {
      "cell_type": "code",
      "source": [
        "time_domain = torch.istft(new_data, 2000)\n",
        "time_domain.shape"
      ],
      "metadata": {
        "id": "r6vlGUNL_HEv"
      },
      "execution_count": null,
      "outputs": []
    },
    {
      "cell_type": "code",
      "source": [
        "IPython.display.Audio(time_domain[:5*rate],rate=rate)"
      ],
      "metadata": {
        "id": "aZp2Ip4c_aDo"
      },
      "execution_count": null,
      "outputs": []
    },
    {
      "cell_type": "code",
      "source": [
        "class Dataset:\n",
        "  def __init__(self, folder, n_fft=100, fft_width=50):\n",
        "    self.folder = folder\n",
        "\n",
        "    self.files = [f for f in listdir(folder) if isfile(join(folder, f))]\n",
        "    self.files = [self.files[0]] #TMPDEBUG: use one file to see if it will converge\n",
        "    random.shuffle(self.files)\n",
        "    self.fi = 0\n",
        "    self.di = 0\n",
        "    self.data = None\n",
        "    self.n_fft = n_fft\n",
        "    self.fft_width = fft_width\n",
        "\n",
        "\n",
        "  def mag_phase_to_complex(self, mag, phase):\n",
        "    return mag*torch.exp(1.j*phase)\n",
        "\n",
        "\n",
        "  def to_audio(self, data):\n",
        "    mag = data[:, 0, :, :]\n",
        "    phase = data[:, 1, :, :]\n",
        "\n",
        "    mag = mag.transpose(0, 1)\n",
        "    phase = phase.transpose(0, 1)\n",
        "\n",
        "    mag = mag.reshape(mag.shape[0], -1)\n",
        "    phase = phase.reshape(phase.shape[0], -1)\n",
        "\n",
        "    new_data = mag_phase_to_complex(mag, phase)\n",
        "\n",
        "    time_domain = torch.istft(new_data, 200)\n",
        "    return time_domain\n",
        "\n",
        "  def load_file(self, path):\n",
        "    data, rate = torchaudio.load(path)\n",
        "    assert rate == 44100\n",
        "    data = data.sum(0)/2.0\n",
        "    assert data.max() <= 1.0\n",
        "    assert data.min() >= -1.0\n",
        "    spect = torch.stft(data, self.n_fft, return_complex=True)\n",
        "    mag = torch.absolute(spect)\n",
        "    phase = torch.angle(spect)\n",
        "\n",
        "    chunked = torch.stack((self.chunk(mag), self.chunk(phase)), 1)\n",
        "\n",
        "    return chunked\n",
        "\n",
        "  def chunk(self, data):\n",
        "    leftover = data.shape[1] % self.fft_width\n",
        "    if leftover != 0:\n",
        "      data = data[:, :-leftover]\n",
        "\n",
        "    chunked_data = data.reshape((data.shape[0], -1, self.fft_width))\n",
        "    chunked_data = torch.transpose(chunked_data, 0, 1)\n",
        "\n",
        "    return chunked_data\n",
        "\n",
        "  def get_batch(self, batch_size):\n",
        "\n",
        "    if self.data is None: # or self.di + batch_size >= self.data.shape[0]:\n",
        "      self.fi = (self.fi + 1) % len(self.files)\n",
        "      print(\"Loading file\", self.files[self.fi])\n",
        "      self.data = self.load_file(join(self.folder, self.files[self.fi]))\n",
        "      self.di = 0\n",
        "      self.data = self.data[:5*batch_size, :, :, :]#TMPDEBUG\n",
        "\n",
        "    if self.di + batch_size >= self.data.shape[0]:\n",
        "      self.di = 0\n",
        "    batch = self.data[self.di:self.di + batch_size, :, :, :]\n",
        "    self.di += batch_size\n",
        "\n",
        "    batch = batch[:, 0, :, :]\n",
        "    batch = batch[:, None, :, :]\n",
        "\n",
        "    return batch\n",
        "\n",
        "\n",
        "\n"
      ],
      "metadata": {
        "id": "lJCvLq8zDcWI"
      },
      "execution_count": null,
      "outputs": []
    },
    {
      "cell_type": "code",
      "source": [
        "# test dataset\n",
        "\n",
        "ds = Dataset('/content/drive/MyDrive/music/songsinmyhead/songsinmyhead_2016/')\n",
        "magphase = ds.load_file('/content/drive/MyDrive/music/songsinmyhead/songsinmyhead_2016/01blame.wav')\n",
        "plt.imshow(magphase[0,0, :, :], origin='lower')\n"
      ],
      "metadata": {
        "id": "GMvdWu7FLS5b"
      },
      "execution_count": null,
      "outputs": []
    },
    {
      "cell_type": "code",
      "source": [
        "plt.imshow(magphase[0, 1, :, :], origin='lower')"
      ],
      "metadata": {
        "id": "V9teuZo5L0l6"
      },
      "execution_count": null,
      "outputs": []
    },
    {
      "cell_type": "code",
      "source": [
        "for i in range(10):\n",
        "  data = ds.get_batch(2)\n",
        "plt.imshow(data[0, 0, :, :], origin='lower')\n",
        "data.shape"
      ],
      "metadata": {
        "id": "pCMODLwQPHFb"
      },
      "execution_count": null,
      "outputs": []
    },
    {
      "cell_type": "code",
      "source": [
        "\n",
        "\n",
        "time_domain = ds.to_audio(data)"
      ],
      "metadata": {
        "id": "MNVD2U5gqGA5"
      },
      "execution_count": null,
      "outputs": []
    },
    {
      "cell_type": "code",
      "source": [],
      "metadata": {
        "id": "2mzTwZMKVdgb"
      },
      "execution_count": null,
      "outputs": []
    },
    {
      "cell_type": "code",
      "source": [
        "IPython.display.Audio(time_domain,rate=rate)"
      ],
      "metadata": {
        "id": "5GyoOlxPq7Wh"
      },
      "execution_count": null,
      "outputs": []
    },
    {
      "cell_type": "code",
      "source": [
        "\n",
        "\n",
        "class AutoEncode(nn.Module):\n",
        "    def __init__(self):\n",
        "        super().__init__()\n",
        "        self.conv1 = nn.Conv2d(1, 6, 5)\n",
        "        self.pool = nn.MaxPool2d(2, 2)\n",
        "        self.conv2 = nn.Conv2d(6, 16, 5)\n",
        "        self.fc1 = nn.Linear(1296, 100)\n",
        "        self.fc2 = nn.Linear(100, 1*51*50)\n",
        "        # # self.fc3 = nn.Linear(84, 10)\n",
        "        # # self.fc4 = nn.Linear(10, 84)\n",
        "        # self.fc5 = nn.Linear(84, 120)\n",
        "        # self.fc6 = nn.Linear(120, 1*51*50)\n",
        "\n",
        "    def forward(self, x):\n",
        "        x = self.pool(F.relu(self.conv1(x)))\n",
        "        x = self.pool(F.relu(self.conv2(x)))\n",
        "        x = torch.flatten(x, 1) # flatten all dimensions except batch\n",
        "        x = F.relu(self.fc1(x))\n",
        "        x = F.relu(self.fc2(x))\n",
        "        # # x = F.relu(self.fc3(x))\n",
        "        # # x = F.relu(self.fc4(x))\n",
        "        # x = F.relu(self.fc5(x))\n",
        "        # x = F.relu(self.fc6(x))\n",
        "        x = x.view(x.shape[0], 1, 51, 50)\n",
        "        return x\n",
        "\n",
        "\n"
      ],
      "metadata": {
        "id": "6RsdsAhkVeUb"
      },
      "execution_count": null,
      "outputs": []
    },
    {
      "cell_type": "code",
      "source": [
        "data.shape"
      ],
      "metadata": {
        "id": "iQaqtIDIcXIK"
      },
      "execution_count": null,
      "outputs": []
    },
    {
      "cell_type": "code",
      "source": [
        "model = AutoEncode()\n",
        "output = model(data)\n",
        "output.shape"
      ],
      "metadata": {
        "id": "gpyHHlNSY2WD"
      },
      "execution_count": null,
      "outputs": []
    },
    {
      "cell_type": "code",
      "source": [
        "import torch.optim as optim\n",
        "\n",
        "criterion = nn.MSELoss()\n",
        "optimizer = optim.Adam(model.parameters(), lr=0.00001)\n",
        "\n",
        "\n",
        "\n",
        "running_loss = 0.0\n",
        "n_batches = 2000\n",
        "batch_size = 2\n",
        "for i in range(n_batches):\n",
        "    # get the inputs; data is a list of [inputs, labels]\n",
        "    batch = ds.get_batch(batch_size)\n",
        "\n",
        "    # zero the parameter gradients\n",
        "    optimizer.zero_grad()\n",
        "\n",
        "    # forward + backward + optimize\n",
        "    outputs = model(batch)\n",
        "    loss = criterion(outputs, batch)\n",
        "    loss.backward()\n",
        "    optimizer.step()\n",
        "\n",
        "    # print statistics\n",
        "    running_loss += loss.item()\n",
        "    print_every = 100\n",
        "    if i % print_every == 0:\n",
        "        print(f'[{i + 1:5d}] loss: {running_loss/print_every:.6f}')\n",
        "        running_loss = 0.0\n",
        "\n"
      ],
      "metadata": {
        "id": "BRydYrl7eTKB"
      },
      "execution_count": null,
      "outputs": []
    },
    {
      "cell_type": "code",
      "source": [
        "data = ds.get_batch(64)\n",
        "data = torch.rand(data.shape)\n",
        "data = data[5:7]\n",
        "print(data.shape)\n",
        "out = model(data)\n",
        "out.shape\n",
        "out = out.detach()\n",
        "\n"
      ],
      "metadata": {
        "id": "DEHPJuQ7d7oh"
      },
      "execution_count": null,
      "outputs": []
    },
    {
      "cell_type": "code",
      "source": [
        "plt.imshow(data[0, 0, :, :], origin='lower')\n"
      ],
      "metadata": {
        "id": "GOmb1wy94mYR"
      },
      "execution_count": null,
      "outputs": []
    },
    {
      "cell_type": "code",
      "source": [
        "plt.imshow(out[0, 0, :, :], origin='lower')"
      ],
      "metadata": {
        "id": "iD8KzNG_4nnQ"
      },
      "execution_count": null,
      "outputs": []
    },
    {
      "cell_type": "code",
      "source": [
        "data = ds.get_batch(64)\n",
        "data = torch.rand(data.shape)\n",
        "output = model(data)\n",
        "output.shape\n",
        "output = output.detach()\n",
        "plt.imshow(data[0, 0, :, :], origin='lower')\n",
        "plt.imshow(output[0, 0, :, :], origin='lower')"
      ],
      "metadata": {
        "id": "vrvjrWE2sNeV"
      },
      "execution_count": null,
      "outputs": []
    },
    {
      "cell_type": "code",
      "source": [
        "audio = ds.to_audio(output)\n",
        "IPython.display.Audio(audio.detach(),rate=rate)"
      ],
      "metadata": {
        "id": "rxOGd_vqcgwZ"
      },
      "execution_count": null,
      "outputs": []
    }
  ]
}